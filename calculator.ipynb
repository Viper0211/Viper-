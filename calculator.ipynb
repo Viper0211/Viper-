{
 "cells": [
  {
   "cell_type": "markdown",
   "metadata": {},
   "source": [
    "##                                                $ ℃ѦḺ☾ṲḺѦ†☮ℜ $ \n",
    "##                                          BY # ⅤЇṔℰℝ  # #"
   ]
  },
  {
   "cell_type": "code",
   "execution_count": null,
   "metadata": {},
   "outputs": [
    {
     "name": "stdout",
     "output_type": "stream",
     "text": [
      "\n",
      "                                          $ ℃ѦḺ☾ṲḺѦ†☮ℜ $\n",
      "                          \n",
      "                                        POWERED BY # ⅤЇṔℰℝ #\n",
      "\n",
      "_________________________________________________________________________________________________________________________\n",
      "\n",
      "How to use operators :-\n",
      "    \n",
      "    TO Add First Number And Second Number Use '+'\n",
      "    \n",
      "    TO Subract  Second Number From First Number Use '-'\n",
      "    \n",
      "    TO Muliply The First Number And Second Number Use '*'\n",
      "    \n",
      "    TO Divide First Number By Second Number Use '/'\n",
      "    \n",
      "    TO Power of First Number By Second Number Use '**'\n",
      "    \n",
      "__________________________________________________________________________________________________________________________\n",
      "\n",
      "\n",
      "\n"
     ]
    }
   ],
   "source": [
    "start= \"\"\"\n",
    "                                          $ ℃ѦḺ☾ṲḺѦ†☮ℜ $\n",
    "                          \n",
    "                                        POWERED BY # ⅤЇṔℰℝ #\n",
    "\n",
    "_________________________________________________________________________________________________________________________\n",
    "\n",
    "How to use operators :-\n",
    "    \n",
    "    TO Add First Number And Second Number Use '+'\n",
    "    \n",
    "    TO Subract  Second Number From First Number Use '-'\n",
    "    \n",
    "    TO Muliply The First Number And Second Number Use '*'\n",
    "    \n",
    "    TO Divide First Number By Second Number Use '/'\n",
    "    \n",
    "    TO Power of First Number By Second Number Use '**'\n",
    "    \n",
    "__________________________________________________________________________________________________________________________\n",
    "\n",
    "\n",
    "\"\"\"\n",
    "\n",
    "print (start)\n",
    "\n",
    "num1 = float(input (\"Enter The First NUmber :\"))\n",
    "fun = input (\"Enter The Operator Symbol :\")\n",
    "num2 = float(input (\"Enter The Second NUmber :\"))\n",
    "\n",
    "if fun==\"+\" :\n",
    "    print ( num1 + num2)\n",
    "elif fun== \"-\" :\n",
    "    print ( num1 - num2)\n",
    "elif fun== \"*\" :\n",
    "    print ( num1 * num2)\n",
    "elif fun== \"/\" :\n",
    "    print ( num1 / num2)\n",
    "elif fun== \"**\" :\n",
    "    print ( num1 ** num2)\n",
    "else :\n",
    "    print (\"INVALID OPERATION\")\n",
    "    "
   ]
  },
  {
   "cell_type": "code",
   "execution_count": null,
   "metadata": {},
   "outputs": [],
   "source": []
  }
 ],
 "metadata": {
  "kernelspec": {
   "display_name": "Python 3",
   "language": "python",
   "name": "python3"
  },
  "language_info": {
   "codemirror_mode": {
    "name": "ipython",
    "version": 3
   },
   "file_extension": ".py",
   "mimetype": "text/x-python",
   "name": "python",
   "nbconvert_exporter": "python",
   "pygments_lexer": "ipython3",
   "version": "3.7.6"
  }
 },
 "nbformat": 4,
 "nbformat_minor": 4
}
